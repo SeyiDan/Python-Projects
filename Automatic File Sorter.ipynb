{
 "cells": [
  {
   "cell_type": "markdown",
   "metadata": {},
   "source": [
    "## Automatic File Sorter in File Explorer"
   ]
  },
  {
   "cell_type": "code",
   "execution_count": 45,
   "metadata": {},
   "outputs": [],
   "source": [
    "import os, shutil\n",
    "from pathlib import Path"
   ]
  },
  {
   "cell_type": "code",
   "execution_count": 46,
   "metadata": {},
   "outputs": [],
   "source": [
    "path = r'C:/Users/olade/OneDrive - Prairie View A&M University/Desktop/MySQL/Alex Tutorials/Python/'\n",
    "extensions = ['.csv', '.txt','.xlsx', '.json']"
   ]
  },
  {
   "cell_type": "code",
   "execution_count": 47,
   "metadata": {},
   "outputs": [
    {
     "name": "stdout",
     "output_type": "stream",
     "text": [
      "folder already exists: C:/Users/olade/OneDrive - Prairie View A&M University/Desktop/MySQL/Alex Tutorials/Python/csv_files\n",
      "folder already exists: C:/Users/olade/OneDrive - Prairie View A&M University/Desktop/MySQL/Alex Tutorials/Python/txt_files\n",
      "folder already exists: C:/Users/olade/OneDrive - Prairie View A&M University/Desktop/MySQL/Alex Tutorials/Python/xlsx_files\n",
      "folder already exists: C:/Users/olade/OneDrive - Prairie View A&M University/Desktop/MySQL/Alex Tutorials/Python/json_files\n"
     ]
    }
   ],
   "source": [
    "# Create folders for each extension\n",
    "for ext in extensions:\n",
    "    folder_name = ext.strip('.') + '_files' #create folder names like \"txt_files\"\n",
    "    full_path = os.path.join(path, folder_name) #combine path with folder name\n",
    "    \n",
    "    #Check if the folder exists, if not, create it\n",
    "    if not os.path.exists(full_path):\n",
    "        os.mkdir(full_path)\n",
    "        print(f'Created folder: {full_path}')\n",
    "    else:\n",
    "        print(f'folder already exists: {full_path}')"
   ]
  },
  {
   "cell_type": "code",
   "execution_count": 48,
   "metadata": {},
   "outputs": [
    {
     "name": "stdout",
     "output_type": "stream",
     "text": [
      "Files found in directory: ['BMI Calculator.ipynb']\n"
     ]
    }
   ],
   "source": [
    "#Get a list of files in the directory\n",
    "file_names = [f for f in os.listdir(path) if (Path(path) / f).is_file()]\n",
    "print(f\"Files found in directory: {file_names}\")\n"
   ]
  },
  {
   "cell_type": "code",
   "execution_count": 49,
   "metadata": {},
   "outputs": [
    {
     "name": "stdout",
     "output_type": "stream",
     "text": [
      "Processing file: BMI Calculator.ipynb, Extension: .ipynb\n"
     ]
    }
   ],
   "source": [
    "#Move files to their corresponding folders\n",
    "for file in file_names:\n",
    "    file_ext = Path(file).suffix.lower()  # Get the file extension in lowercase\n",
    "    print(f\"Processing file: {file}, Extension: {file_ext}\")\n",
    "    \n",
    "    \n",
    "    if file_ext in extensions:  # Check if the extension matches\n",
    "        source = Path(path)/file\n",
    "        dest_folder = Path(path) /(file_ext.strip('.') + \"_files\")# Destination folder\n",
    "        dest_path = dest_folder / file  # Destination file path\n",
    "        \n",
    "        # Move the file if it doesn't already exist in the destination\n",
    "        if not dest_path.exists():\n",
    "            print(f\"Moving file: {file} to {dest_folder}\")\n",
    "            shutil.move(source, dest_path)\n",
    "        else:\n",
    "            print(f\"File already exists in destination: {dest_path}\")\n",
    "                \n"
   ]
  }
 ],
 "metadata": {
  "kernelspec": {
   "display_name": "base",
   "language": "python",
   "name": "python3"
  },
  "language_info": {
   "codemirror_mode": {
    "name": "ipython",
    "version": 3
   },
   "file_extension": ".py",
   "mimetype": "text/x-python",
   "name": "python",
   "nbconvert_exporter": "python",
   "pygments_lexer": "ipython3",
   "version": "3.12.7"
  }
 },
 "nbformat": 4,
 "nbformat_minor": 2
}
